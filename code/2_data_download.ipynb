{
 "cells": [
  {
   "cell_type": "markdown",
   "id": "c9a3256d-1ca9-4a50-8549-1d12fb9e4135",
   "metadata": {},
   "source": [
    "# Download Geospatial Layers"
   ]
  },
  {
   "cell_type": "markdown",
   "id": "c8348105-76b5-4a84-b590-52a22182900a",
   "metadata": {},
   "source": [
    "## Set Up Environment"
   ]
  },
  {
   "cell_type": "code",
   "execution_count": 1,
   "id": "7ce459f0-db73-447b-8146-92fd26c5af9a",
   "metadata": {},
   "outputs": [],
   "source": [
    "import ee\n",
    "from google.auth.transport.requests import AuthorizedSession\n",
    "ee.Initialize()\n",
    "session = AuthorizedSession(ee.data.get_persistent_credentials())"
   ]
  },
  {
   "cell_type": "code",
   "execution_count": 2,
   "id": "2504afbc-026e-4b3e-ad8d-f226e76d2315",
   "metadata": {},
   "outputs": [],
   "source": [
    "import geemap\n",
    "from pprint import pprint"
   ]
  },
  {
   "cell_type": "code",
   "execution_count": 3,
   "id": "5cc89035-5b7e-4794-9b21-7c2ea26258d6",
   "metadata": {},
   "outputs": [],
   "source": [
    "# Prep Map\n",
    "Map = geemap.Map()\n",
    "Map.setCenter(0, 70, 2)"
   ]
  },
  {
   "cell_type": "code",
   "execution_count": 4,
   "id": "fd471a7c-c0e0-47cb-b837-8cc88174224e",
   "metadata": {},
   "outputs": [],
   "source": [
    "geometry = ee.Geometry.Rectangle([-180, 43, 179.999999, 85], 'EPSG:4326', False)"
   ]
  },
  {
   "cell_type": "markdown",
   "id": "15010d03-b970-47e6-81ae-dcde39e8cd10",
   "metadata": {},
   "source": [
    "## TerraClimate"
   ]
  },
  {
   "cell_type": "code",
   "execution_count": 5,
   "id": "17c7dc06-d418-4840-ae8e-39b2f929fc35",
   "metadata": {},
   "outputs": [],
   "source": [
    "# apply image IDs to each image in the collection\n",
    "def setProperties(image):\n",
    "    img_id = image.id();\n",
    "    img_year = img_id.slice(0, 4);\n",
    "    img_month = img_id.slice(4, 6);\n",
    "    img_prop = image.setMulti({'ID': img_id,\n",
    "                               'year': img_year,\n",
    "                               'month': img_month});\n",
    "    img_prop = ee.Image(img_prop);\n",
    "    return img_prop;"
   ]
  },
  {
   "cell_type": "code",
   "execution_count": 6,
   "id": "12e77f4c-1d79-4ee5-82bc-051914f3f155",
   "metadata": {},
   "outputs": [],
   "source": [
    "TerraClimate = (\n",
    "  ee.ImageCollection(\"IDAHO_EPSCOR/TERRACLIMATE\")\n",
    "    .map(setProperties)\n",
    "    .filterDate('1973-01-01', '2022-12-31')\n",
    "  );"
   ]
  },
  {
   "cell_type": "code",
   "execution_count": 7,
   "id": "9d86a970-641c-495c-8254-6c69d5a21f77",
   "metadata": {},
   "outputs": [
    {
     "name": "stdout",
     "output_type": "stream",
     "text": [
      "['aet',\n",
      " 'def',\n",
      " 'pdsi',\n",
      " 'pet',\n",
      " 'pr',\n",
      " 'ro',\n",
      " 'soil',\n",
      " 'srad',\n",
      " 'swe',\n",
      " 'tmmn',\n",
      " 'tmmx',\n",
      " 'vap',\n",
      " 'vpd',\n",
      " 'vs']\n"
     ]
    }
   ],
   "source": [
    "pprint(\n",
    "    TerraClimate\n",
    "    .first()\n",
    "    .bandNames()\n",
    "    .getInfo()\n",
    ")"
   ]
  },
  {
   "cell_type": "code",
   "execution_count": 8,
   "id": "c51511b9-54ce-4274-bfe1-e87fe47e1edc",
   "metadata": {},
   "outputs": [
    {
     "name": "stdout",
     "output_type": "stream",
     "text": [
      "1973\n",
      "2022\n"
     ]
    }
   ],
   "source": [
    "years = TerraClimate.aggregate_array('year').distinct()\n",
    "year_len = years.length()\n",
    "year_min = years.get(0).getInfo()\n",
    "year_max = years.get(year_len.subtract(1)).getInfo()\n",
    "print(year_min)\n",
    "print(year_max)"
   ]
  },
  {
   "cell_type": "markdown",
   "id": "0be9cbfb-8eb4-470c-b843-397338ae1b8d",
   "metadata": {},
   "source": [
    "### Max"
   ]
  },
  {
   "cell_type": "code",
   "execution_count": 9,
   "id": "525c52de-6df2-4d11-b3a9-892424a190b7",
   "metadata": {},
   "outputs": [],
   "source": [
    "# Function to get annual max\n",
    "def getAnnualMax(year):\n",
    "    filtered = TerraClimate.filter(ee.Filter.eq('year', year))\n",
    "    return filtered.select(['tmmx', 'pr', 'ro', 'swe']).max().set('year', year)"
   ]
  },
  {
   "cell_type": "code",
   "execution_count": 10,
   "id": "896fe5af-4015-47b9-9268-860da3aa8f40",
   "metadata": {},
   "outputs": [],
   "source": [
    "TerraClimateAnnualMax = ee.ImageCollection(years.map(getAnnualMax))\n",
    "TerraClimateMax = TerraClimateAnnualMax.reduce(ee.Reducer.mean()).clip(geometry)"
   ]
  },
  {
   "cell_type": "code",
   "execution_count": 11,
   "id": "19e0206c-a9e8-434e-992c-c4cb59b7ce04",
   "metadata": {},
   "outputs": [],
   "source": [
    "tempMaxParams = {\n",
    "    'min': 5, \n",
    "    'max': 350, \n",
    "    'palette': ['FFFFCC', 'FF0000']\n",
    "};\n",
    "precipMaxParams = {\n",
    "    'min': 0, \n",
    "    'max': 400, \n",
    "    'palette': ['FFFFFF', '0099FF']\n",
    "};\n",
    "roMaxParams = {\n",
    "    'min': 0, \n",
    "    'max': 500, \n",
    "    'palette': ['FFFFFF', '0000FF']\n",
    "};\n",
    "sweMaxParams = {\n",
    "    'min': 0, \n",
    "    'max': 250, \n",
    "    'palette': ['993300', 'FFFFFF']\n",
    "};"
   ]
  },
  {
   "cell_type": "code",
   "execution_count": 12,
   "id": "586daffe-3d73-4920-8d0b-d204c2f1a032",
   "metadata": {},
   "outputs": [],
   "source": [
    "# Map.addLayer(TerraClimateMax.select('tmmx_mean'), tempMaxParams, 'Temp Max 1973-2022')\n",
    "# Map.addLayer(TerraClimateMax.select('pr_mean'), precipMaxParams, 'Precip Max 1973-2022')\n",
    "# Map.addLayer(TerraClimateMax.select('ro_mean'), roMaxParams, 'Runoff Max 1973-2022')\n",
    "# Map.addLayer(TerraClimateMax.select('swe_mean'), sweMaxParams, 'SWE Max 1973-2022')"
   ]
  },
  {
   "cell_type": "markdown",
   "id": "79c0bec3-3fec-4733-8202-eaf4515df44d",
   "metadata": {},
   "source": [
    "### Min"
   ]
  },
  {
   "cell_type": "code",
   "execution_count": 13,
   "id": "ed0fcdcd-ec58-4fc0-8d8e-9f4445c98eb0",
   "metadata": {},
   "outputs": [],
   "source": [
    "# Function to get annual min\n",
    "def getAnnualMin(year):\n",
    "    filtered = TerraClimate.filter(ee.Filter.eq('year', year))\n",
    "    return filtered.select(['tmmn']).min().set('year', year)"
   ]
  },
  {
   "cell_type": "code",
   "execution_count": 14,
   "id": "22eb107a-32fa-43f5-80e5-943fb810ee98",
   "metadata": {
    "tags": []
   },
   "outputs": [],
   "source": [
    "TerraClimateAnnualMin = ee.ImageCollection(years.map(getAnnualMin))\n",
    "TerraClimateMin = TerraClimateAnnualMin.reduce(ee.Reducer.mean()).clip(geometry)"
   ]
  },
  {
   "cell_type": "code",
   "execution_count": 15,
   "id": "ce8de942-80c8-4265-a614-100cbd151cb2",
   "metadata": {},
   "outputs": [],
   "source": [
    "tempMinParams = {\n",
    "    'min': -400, \n",
    "    'max': 0, \n",
    "    'palette': ['00CCFF', 'FFFFFF']\n",
    "};"
   ]
  },
  {
   "cell_type": "code",
   "execution_count": 16,
   "id": "501a7b40-eefe-475d-b2cf-a6d91afd1d4c",
   "metadata": {},
   "outputs": [],
   "source": [
    "# Map.addLayer(TerraClimateMin.select('tmmn_mean'), tempMinParams, 'Temp Min 1973-2022')"
   ]
  },
  {
   "cell_type": "markdown",
   "id": "4b2f6d79-ce5c-4c09-8ece-d2c420eda125",
   "metadata": {},
   "source": [
    "### Sum"
   ]
  },
  {
   "cell_type": "code",
   "execution_count": 17,
   "id": "9cad7a46-08e6-43c7-b1cd-ebd4683c8020",
   "metadata": {},
   "outputs": [],
   "source": [
    "# Function to get annual sum\n",
    "def getAnnualSum(year):\n",
    "    filtered = (\n",
    "        TerraClimate\n",
    "        .filter(ee.Filter.eq('year', year))\n",
    "        .filter(ee.Filter.And(\n",
    "            ee.Filter.greaterThanOrEquals('month', '05'), \n",
    "            ee.Filter.lessThanOrEquals('month', '09'))\n",
    "               )\n",
    "    )\n",
    "    return filtered.select(['pr', 'ro', 'srad']).sum().set('year', year)"
   ]
  },
  {
   "cell_type": "code",
   "execution_count": 18,
   "id": "c52fe8ff-2469-42b3-8420-e0b400d614a8",
   "metadata": {},
   "outputs": [],
   "source": [
    "TerraClimateAnnualSum = ee.ImageCollection(years.map(getAnnualSum))\n",
    "TerraClimateSum = TerraClimateAnnualSum.reduce(ee.Reducer.mean()).clip(geometry)"
   ]
  },
  {
   "cell_type": "code",
   "execution_count": 19,
   "id": "0d009090-6451-46d4-b4a8-82c7e258a38a",
   "metadata": {},
   "outputs": [],
   "source": [
    "precipSumParams = {\n",
    "    'min': 0, \n",
    "    'max': 1000, \n",
    "    'palette': ['FFFFFF', '0099FF']\n",
    "};\n",
    "roSumParams = {\n",
    "    'min': 0, \n",
    "    'max': 1000, \n",
    "    'palette': ['FFFFFF', '0000FF']\n",
    "};\n",
    "sradSumParams = {\n",
    "    'min': 6000, \n",
    "    'max': 11000, \n",
    "    'palette': ['000000', 'FFEE66']\n",
    "};"
   ]
  },
  {
   "cell_type": "code",
   "execution_count": 20,
   "id": "6e5c7b84-e411-4620-89f7-8ff22ce25ed4",
   "metadata": {},
   "outputs": [],
   "source": [
    "# Map.addLayer(TerraClimateSum.select('pr_mean'), precipSumParams, 'Precip Sum 1973-2022')\n",
    "# Map.addLayer(TerraClimateSum.select('ro_mean'), roSumParams, 'Runoff Sum 1973-2022')\n",
    "# Map.addLayer(TerraClimateSum.select('srad_mean'), sradSumParams, 'Solar Rad Sum 1973-2022')"
   ]
  },
  {
   "cell_type": "code",
   "execution_count": 21,
   "id": "0d8949ad-ffc3-4e63-ba0c-a92b667ae3db",
   "metadata": {},
   "outputs": [],
   "source": [
    "# # Unexpected line in solar radiation at 180th meridian is an issue in the underlying data\n",
    "# # not a problem with processing\n",
    "# Map.addLayer(\n",
    "#     TerraClimate.filter(ee.Filter.eq('year', '2022')).filter(ee.Filter.eq('month', '06')).select('srad'), \n",
    "#     {\n",
    "#         'min': 1000, \n",
    "#         'max': 3000, \n",
    "#         'palette': ['000000', 'FFEE66']\n",
    "#     },\n",
    "#     'Solar Rad June 2022'\n",
    "# )"
   ]
  },
  {
   "cell_type": "markdown",
   "id": "c27e1922-0684-46ca-a17f-ecb9935357f2",
   "metadata": {},
   "source": [
    "### Mean"
   ]
  },
  {
   "cell_type": "code",
   "execution_count": 22,
   "id": "682920db-4840-418a-a7c8-5c583d6bc232",
   "metadata": {},
   "outputs": [],
   "source": [
    "# Function to get annual mean\n",
    "def getAnnualMean(year):\n",
    "    filtered = TerraClimate.filter(ee.Filter.eq('year', year))\n",
    "    return filtered.select(['soil']).mean()"
   ]
  },
  {
   "cell_type": "code",
   "execution_count": 23,
   "id": "c0cbefa7-bf07-4fa6-b842-4243dd91f116",
   "metadata": {},
   "outputs": [],
   "source": [
    "TerraClimateAnnualMean = ee.ImageCollection(years.map(getAnnualMean))\n",
    "TerraClimateMean = TerraClimateAnnualMean.reduce(ee.Reducer.mean()).clip(geometry)"
   ]
  },
  {
   "cell_type": "code",
   "execution_count": 24,
   "id": "1e205cf0-6563-419f-b282-706ba2c5976c",
   "metadata": {},
   "outputs": [],
   "source": [
    "soilMeanParams = {\n",
    "    'min': 0, \n",
    "    'max': 1000, \n",
    "    'palette': ['993300', '00CCFF']\n",
    "};"
   ]
  },
  {
   "cell_type": "code",
   "execution_count": 25,
   "id": "0c221366-36da-4aaa-82a5-de4e4ddfe191",
   "metadata": {},
   "outputs": [],
   "source": [
    "# Map.addLayer(TerraClimateMean.select('soil_mean'), soilMeanParams, 'Soil Moisture Mean 1973-2022')"
   ]
  },
  {
   "cell_type": "markdown",
   "id": "75f6c11c-a7de-4d0b-9df4-1c5f6f3aa83e",
   "metadata": {},
   "source": [
    "### Trends"
   ]
  },
  {
   "cell_type": "code",
   "execution_count": 26,
   "id": "54e5ade3-f18d-4f5e-bb0c-c7d66ce97d13",
   "metadata": {},
   "outputs": [],
   "source": [
    "def addVariables(image):\n",
    "    time = ee.Number.parse(image.get('year')).subtract(ee.Number.parse(TerraClimateAnnualMax.first().get('year')))\n",
    "    return (\n",
    "        image\n",
    "        .addBands(ee.Image(time).rename('t').float())\n",
    "        .addBands(ee.Image.constant(1))\n",
    "        )\n",
    "    \n",
    "TerraClimateAnnualMax = (\n",
    "    TerraClimateAnnualMax\n",
    "    .map(addVariables)\n",
    ")\n",
    "\n",
    "TerraClimateAnnualMin = (\n",
    "    TerraClimateAnnualMin\n",
    "    .map(addVariables)\n",
    ")\n",
    "\n",
    "TerraClimateAnnualSum = (\n",
    "    TerraClimateAnnualSum\n",
    "    .map(addVariables)\n",
    ")\n",
    "\n",
    "independents = ee.List(['constant', 't'])"
   ]
  },
  {
   "cell_type": "markdown",
   "id": "73f161da-7089-4042-af93-f4c95f1cadf1",
   "metadata": {},
   "source": [
    "#### Tmax"
   ]
  },
  {
   "cell_type": "code",
   "execution_count": 27,
   "id": "ffb9d0c1-9633-4182-9aee-503f738c4f32",
   "metadata": {},
   "outputs": [],
   "source": [
    "dependent = ee.String('tmmx')\n",
    "tmaxTrend = (\n",
    "    TerraClimateAnnualMax.select(independents.add(dependent))\n",
    "    .reduce(ee.Reducer.linearRegression(independents.length(), 1))\n",
    ")\n",
    "tmaxCoefficients = (\n",
    "    tmaxTrend.select('coefficients')\n",
    "    .arrayProject([0])\n",
    "    .arrayFlatten([['tmax_b0', 'tmax_b1']])\n",
    "    .clip(geometry)\n",
    ")"
   ]
  },
  {
   "cell_type": "code",
   "execution_count": 28,
   "id": "3139872c-7a02-49f3-ba6c-3d57c29f2047",
   "metadata": {},
   "outputs": [],
   "source": [
    "# This will show all of the outputs from the model (coefficients b0, b1 and residuals)\n",
    "# Map.addLayer(tmaxTrend, {}, 'Tmax Model Output')\n",
    "\n",
    "# Map with trend (b1) only\n",
    "# deg C/decade (original tmmx is in deg C * 10)\n",
    "# Map.addLayer(\n",
    "#     tmaxCoefficients.select('tmax_b1'), \n",
    "#     {'min': -2, 'max': 2, 'palette': ['000066', '0000FF', 'FFFFFF', 'FF0000', '990000']}, \n",
    "#     'Tmax Trend'\n",
    "# )"
   ]
  },
  {
   "cell_type": "markdown",
   "id": "17beed64-6687-4caa-bd22-ba1098d3a314",
   "metadata": {},
   "source": [
    "#### Tmin"
   ]
  },
  {
   "cell_type": "code",
   "execution_count": 29,
   "id": "8652e6ee-ee62-414b-8aad-d0606e326639",
   "metadata": {},
   "outputs": [],
   "source": [
    "dependent = ee.String('tmmn')\n",
    "tminTrend = (\n",
    "    TerraClimateAnnualMin.select(independents.add(dependent))\n",
    "    .reduce(ee.Reducer.linearRegression(independents.length(), 1))\n",
    ")\n",
    "tminCoefficients = (\n",
    "    tminTrend.select('coefficients')\n",
    "    .arrayProject([0])\n",
    "    .arrayFlatten([['tmin_b0', 'tmin_b1']])\n",
    "    .clip(geometry)\n",
    ")"
   ]
  },
  {
   "cell_type": "code",
   "execution_count": 30,
   "id": "37e65d74-7061-426f-8c3e-b8d8e7bfc35c",
   "metadata": {},
   "outputs": [],
   "source": [
    "# Map with trend (b1) only\n",
    "# deg C/decade (original tmmx is in deg C * 10)\n",
    "# Map.addLayer(\n",
    "#     tminCoefficients.select('tmin_b1'), \n",
    "#     {'min': -3, 'max': 3, 'palette': ['000066', '0000FF', 'FFFFFF', 'FF0000', '990000']}, \n",
    "#     'Tmin Trend'\n",
    "# )"
   ]
  },
  {
   "cell_type": "markdown",
   "id": "2b066d90-e794-4b66-9d44-1b882302b9f0",
   "metadata": {},
   "source": [
    "#### Precipitation"
   ]
  },
  {
   "cell_type": "code",
   "execution_count": 31,
   "id": "3c2def7b-f42e-4dd1-88ea-a7979acb390b",
   "metadata": {},
   "outputs": [],
   "source": [
    "dependent = ee.String('pr')\n",
    "precipTrend = (\n",
    "    TerraClimateAnnualSum.select(independents.add(dependent))\n",
    "    .reduce(ee.Reducer.linearRegression(independents.length(), 1))\n",
    ")\n",
    "precipCoefficients = (\n",
    "    precipTrend.select('coefficients')\n",
    "    .arrayProject([0])\n",
    "    .arrayFlatten([['precip_b0', 'precip_b1']])\n",
    "    .clip(geometry)\n",
    ")"
   ]
  },
  {
   "cell_type": "code",
   "execution_count": 32,
   "id": "2bdd1f2a-c44b-4fa7-8f47-66c445cbd16a",
   "metadata": {
    "tags": []
   },
   "outputs": [],
   "source": [
    "# Map with trend (b1) only\n",
    "# mm/yr\n",
    "# Map.addLayer(\n",
    "#     precipCoefficients.select('precip_b1'), \n",
    "#     {'min': -4, 'max': 4, 'palette': ['990000', 'FF0000', 'FFFFFF', '0000FF', '000066']}, \n",
    "#     'Precip Trend'\n",
    "# )"
   ]
  },
  {
   "cell_type": "markdown",
   "id": "4a4a541c-bcdc-41e7-918a-57eba0943918",
   "metadata": {},
   "source": [
    "#### Run-Off"
   ]
  },
  {
   "cell_type": "code",
   "execution_count": 33,
   "id": "44baee55-a452-4bd4-ac40-93651d077e10",
   "metadata": {},
   "outputs": [],
   "source": [
    "dependent = ee.String('ro')\n",
    "runoffTrend = (\n",
    "    TerraClimateAnnualSum.select(independents.add(dependent))\n",
    "    .reduce(ee.Reducer.linearRegression(independents.length(), 1))\n",
    ")\n",
    "runoffCoefficients = (\n",
    "    runoffTrend.select('coefficients')\n",
    "    .arrayProject([0])\n",
    "    .arrayFlatten([['runoff_b0', 'runoff_b1']])\n",
    "    .clip(geometry)\n",
    ")"
   ]
  },
  {
   "cell_type": "code",
   "execution_count": 34,
   "id": "e42cfb46-328c-4413-ae42-ff47c0847f4d",
   "metadata": {},
   "outputs": [],
   "source": [
    "# Map with trend (b1) only\n",
    "# mm/yr\n",
    "# Map.addLayer(\n",
    "#     runoffCoefficients.select('runoff_b1'), \n",
    "#     {'min': -8, 'max': 8, 'palette': ['990000', 'FF0000', 'FFFFFF', '0000FF', '000066']}, \n",
    "#     'Run-Off Trend'\n",
    "# )"
   ]
  },
  {
   "cell_type": "markdown",
   "id": "069a7705-9f28-4a8c-ad24-24a76cfe7e4f",
   "metadata": {},
   "source": [
    "#### Snow Water Equivalent"
   ]
  },
  {
   "cell_type": "code",
   "execution_count": 35,
   "id": "838e3323-1804-472d-95c8-d6c9db70c891",
   "metadata": {},
   "outputs": [],
   "source": [
    "dependent = ee.String('swe')\n",
    "sweTrend = (\n",
    "    TerraClimateAnnualMax.select(independents.add(dependent))\n",
    "    .reduce(ee.Reducer.linearRegression(independents.length(), 1))\n",
    ")\n",
    "sweCoefficients = (\n",
    "    sweTrend.select('coefficients')\n",
    "    .arrayProject([0])\n",
    "    .arrayFlatten([['swe_b0', 'swe_b1']])\n",
    "    .clip(geometry)\n",
    ")"
   ]
  },
  {
   "cell_type": "code",
   "execution_count": 36,
   "id": "611b8185-8fc5-471b-a62c-e4544ccc5c5b",
   "metadata": {},
   "outputs": [],
   "source": [
    "# Map with trend (b1) only\n",
    "# mm/yr\n",
    "# Map.addLayer(\n",
    "#     sweCoefficients.select('swe_b1'), \n",
    "#     {'min': -6, 'max': 6, 'palette': ['990000', 'FF0000', 'FFFFFF', '0000FF', '000066']}, \n",
    "#     'SWE Trend'\n",
    "# )"
   ]
  },
  {
   "cell_type": "markdown",
   "id": "94ca1197-62c4-46a8-a00d-288af8fa1b1d",
   "metadata": {},
   "source": [
    "## Seasonality"
   ]
  },
  {
   "cell_type": "code",
   "execution_count": 37,
   "id": "f02d0797-b79c-46dc-99d9-c760841ce21a",
   "metadata": {},
   "outputs": [],
   "source": [
    "tempSeasonality = (\n",
    "    TerraClimateMax\n",
    "    .select('tmmx_mean')\n",
    "    .subtract(TerraClimateMin.select('tmmn_mean'))\n",
    "    .clip(geometry)\n",
    ")"
   ]
  },
  {
   "cell_type": "code",
   "execution_count": 38,
   "id": "e0488b5f-1c26-4a84-97e2-45681eea18fa",
   "metadata": {},
   "outputs": [],
   "source": [
    "tempSeasonalityParams = {\n",
    "    'min': 100, \n",
    "    'max': 800, \n",
    "    'palette': ['FFFFFF', '000000']\n",
    "};"
   ]
  },
  {
   "cell_type": "code",
   "execution_count": 39,
   "id": "22b12ed5-5c20-4315-964b-4f0fa11534aa",
   "metadata": {},
   "outputs": [],
   "source": [
    "# Map.addLayer(tempSeasonality, tempSeasonalityParams, 'Temp Seasonality 1973-2022')"
   ]
  },
  {
   "cell_type": "markdown",
   "id": "7cd0b6ff-2077-44dd-a4d3-d1c908e4ac63",
   "metadata": {},
   "source": [
    "## SoilGrids"
   ]
  },
  {
   "cell_type": "code",
   "execution_count": 40,
   "id": "09bd505f-9bdc-4bec-9996-8a57b9d290e1",
   "metadata": {},
   "outputs": [],
   "source": [
    "# select first 5 bands which correspond to top meter of soil\n",
    "clay = (\n",
    "    ee.Image(\"projects/soilgrids-isric/clay_mean\")\n",
    "    .select(1, 2, 3, 4, 5)\n",
    "    .reduce(ee.Reducer.mean())\n",
    "    .clip(geometry)\n",
    ");\n",
    "sand = (\n",
    "    ee.Image(\"projects/soilgrids-isric/sand_mean\")\n",
    "    .select(1, 2, 3, 4, 5)\n",
    "    .reduce(ee.Reducer.mean())\n",
    "    .clip(geometry)\n",
    ");\n",
    "silt = (\n",
    "    ee.Image(\"projects/soilgrids-isric/silt_mean\")\n",
    "    .select(1, 2, 3, 4, 5)\n",
    "    .reduce(ee.Reducer.mean())\n",
    "    .clip(geometry)\n",
    ");\n",
    "ocs = (\n",
    "    ee.Image(\"projects/soilgrids-isric/ocs_mean\") # organic carbon stock\n",
    "    .clip(geometry)\n",
    ");"
   ]
  },
  {
   "cell_type": "code",
   "execution_count": 41,
   "id": "abd8e250-1fd5-4956-9434-98376e346d3c",
   "metadata": {},
   "outputs": [],
   "source": [
    "# Map.addLayer(clay, {'min': 50, 'max': 300 , 'palette': ['000000', 'FFFFFF']}, 'Clay')"
   ]
  },
  {
   "cell_type": "code",
   "execution_count": 42,
   "id": "385eacb8-dad2-47f5-b6df-b0ef83006876",
   "metadata": {},
   "outputs": [],
   "source": [
    "# Map.addLayer(sand, {'min': 50, 'max': 500 , 'palette': ['000000', 'FFFFFF']}, 'Sand')"
   ]
  },
  {
   "cell_type": "code",
   "execution_count": 43,
   "id": "5701c315-bd04-426e-9cea-97f3599eaa73",
   "metadata": {},
   "outputs": [],
   "source": [
    "# Map.addLayer(silt, {'min': 50, 'max': 500 , 'palette': ['000000', 'FFFFFF']}, 'Silt')"
   ]
  },
  {
   "cell_type": "code",
   "execution_count": 44,
   "id": "b7778e94-fc62-49fd-b40a-9d1bcac9f9a2",
   "metadata": {},
   "outputs": [],
   "source": [
    "# Map.addLayer(ocs, {'min': 0, 'max': 100 , 'palette': ['000000', 'FFFFFF']}, 'Organic Carbon Stock')"
   ]
  },
  {
   "cell_type": "markdown",
   "id": "7aff2d30-da90-44ff-bd84-e34b460b6438",
   "metadata": {},
   "source": [
    "## MODIS LST"
   ]
  },
  {
   "cell_type": "code",
   "execution_count": 45,
   "id": "db24880d-66fd-4517-8424-92228e496ad2",
   "metadata": {},
   "outputs": [],
   "source": [
    "# apply image IDs to each image in the collection\n",
    "def setProperties(image):\n",
    "    img_id = image.id();\n",
    "    img_year = img_id.slice(0, 4);\n",
    "    img_month = img_id.slice(5, 7);\n",
    "    img_prop = image.setMulti({'ID': img_id,\n",
    "                               'year': img_year,\n",
    "                               'month': img_month});\n",
    "    img_prop = ee.Image(img_prop);\n",
    "    return img_prop;"
   ]
  },
  {
   "cell_type": "code",
   "execution_count": 46,
   "id": "965ab207-91d3-465a-8941-6b7d4700af67",
   "metadata": {},
   "outputs": [],
   "source": [
    "lst = (\n",
    "    ee.ImageCollection(\"MODIS/061/MOD21A1D\")\n",
    "    .filterDate('2003-01-01', '2022-12-31')\n",
    "    .select('LST_1KM')\n",
    "    .map(setProperties)\n",
    ");"
   ]
  },
  {
   "cell_type": "code",
   "execution_count": 47,
   "id": "c4761369-6c4d-40ef-89e8-d21338dca67d",
   "metadata": {},
   "outputs": [
    {
     "name": "stdout",
     "output_type": "stream",
     "text": [
      "['2003', '2004', '2005', '2006', '2007', '2008', '2009', '2010', '2011', '2012', '2013', '2014', '2015', '2016', '2017', '2018', '2019', '2020', '2021', '2022']\n"
     ]
    }
   ],
   "source": [
    "years = lst.aggregate_array('year').distinct()\n",
    "print(years.getInfo())"
   ]
  },
  {
   "cell_type": "code",
   "execution_count": 48,
   "id": "9e6c5674-9b7d-4e21-bcc8-28c2c5e18c5f",
   "metadata": {},
   "outputs": [],
   "source": [
    "# Function to get annual mean\n",
    "def getGSMean(year):\n",
    "    filtered = (\n",
    "        lst\n",
    "        .filter(ee.Filter.eq('year', year))\n",
    "        .filter(ee.Filter.And(\n",
    "            ee.Filter.greaterThanOrEquals('month', '05'), \n",
    "            ee.Filter.lessThanOrEquals('month', '09'))\n",
    "               )\n",
    "    )\n",
    "    return filtered.select(['LST_1KM']).mean().set('year', year)"
   ]
  },
  {
   "cell_type": "code",
   "execution_count": 49,
   "id": "62548ca1-fc8f-42c5-906f-d1fac452cdab",
   "metadata": {},
   "outputs": [],
   "source": [
    "lstAnnualGSMean = ee.ImageCollection(\n",
    "    years\n",
    "    .map(getGSMean)\n",
    "    \n",
    ")\n",
    "lstGSMean = (\n",
    "    lstAnnualGSMean\n",
    "    .reduce(ee.Reducer.mean())\n",
    "    .clip(geometry)\n",
    ")"
   ]
  },
  {
   "cell_type": "code",
   "execution_count": 50,
   "id": "a57c8714-c7fb-43e7-a7d3-8a7e7a546947",
   "metadata": {},
   "outputs": [],
   "source": [
    "lstParams = {\n",
    "    'min': 200, \n",
    "    'max': 600, \n",
    "    'palette': ['FFFFFF', '000000']\n",
    "};"
   ]
  },
  {
   "cell_type": "code",
   "execution_count": 51,
   "id": "56fde924-e4dd-40f7-83cf-ab38a1b9ded0",
   "metadata": {},
   "outputs": [],
   "source": [
    "# Map.addLayer(lstGSMean, lstParams, 'MODIS GS LST 2003-2022')"
   ]
  },
  {
   "cell_type": "markdown",
   "id": "2e0c5a54-41d0-4df9-97a4-1acaf2523289",
   "metadata": {},
   "source": [
    "### Trend"
   ]
  },
  {
   "cell_type": "code",
   "execution_count": 52,
   "id": "1be4d9ca-cbd2-446a-9699-08ae2c5cb75d",
   "metadata": {},
   "outputs": [],
   "source": [
    "def addVariables(image):\n",
    "    time = ee.Number.parse(image.get('year')).subtract(ee.Number.parse(lstAnnualGSMean.first().get('year')))\n",
    "    return (\n",
    "        image\n",
    "        .addBands(ee.Image(time).rename('t').float())\n",
    "        .addBands(ee.Image.constant(1))\n",
    "        )"
   ]
  },
  {
   "cell_type": "code",
   "execution_count": 53,
   "id": "d65c4780-660d-4c2f-abcf-6e48de38b85c",
   "metadata": {},
   "outputs": [],
   "source": [
    "lstAnnualGSMean = (\n",
    "    lstAnnualGSMean\n",
    "    .map(addVariables)\n",
    ")"
   ]
  },
  {
   "cell_type": "code",
   "execution_count": 54,
   "id": "31dfaa56-f57f-4414-97fd-24ffa7b81cb1",
   "metadata": {},
   "outputs": [],
   "source": [
    "dependent = ee.String('LST_1KM')\n",
    "lstTrend = (\n",
    "    lstAnnualGSMean.select(independents.add(dependent))\n",
    "    .reduce(ee.Reducer.linearRegression(independents.length(), 1))\n",
    ")\n",
    "lstCoefficients = (\n",
    "    sweTrend.select('coefficients')\n",
    "    .arrayProject([0])\n",
    "    .arrayFlatten([['lst_b0', 'lst_b1']])\n",
    "    .clip(geometry)\n",
    ")"
   ]
  },
  {
   "cell_type": "code",
   "execution_count": 55,
   "id": "d4718681-2ece-49ad-babd-1e1faa28caa5",
   "metadata": {},
   "outputs": [],
   "source": [
    "# # Map with trend (b1) only\n",
    "# # mm/yr\n",
    "# Map.addLayer(\n",
    "#     lstCoefficients.select('lst_b1'), \n",
    "#     {'min': -6, 'max': 6, 'palette': ['990000', 'FF0000', 'FFFFFF', '0000FF', '000066']}, \n",
    "#     'LST Trend'\n",
    "# )"
   ]
  },
  {
   "cell_type": "markdown",
   "id": "fb1cc421-6f4c-4460-b739-b1d3a67f0b2f",
   "metadata": {},
   "source": [
    "## Topography"
   ]
  },
  {
   "cell_type": "code",
   "execution_count": 56,
   "id": "b3efd011-3f93-4e1e-b1e4-707332ba965e",
   "metadata": {},
   "outputs": [],
   "source": [
    "copDEM = (\n",
    "    ee.ImageCollection('COPERNICUS/DEM/GLO30')\n",
    "    .select('DEM')\n",
    "    .mosaic()\n",
    "    .setDefaultProjection('EPSG:3857',None,30)\n",
    "    .clip(geometry)\n",
    ");\n",
    "\n",
    "# Calculate slope (degrees, range is [0,90)), aspect (degrees where 0=N, 90=E, etc.), hillslope[0,255].\n",
    "copTerrain = (\n",
    "    ee.Terrain.products(copDEM)\n",
    "    .setDefaultProjection('EPSG:3857',None,30)\n",
    ");\n",
    "# pprint(copTerrain.bandNames().getInfo());"
   ]
  },
  {
   "cell_type": "code",
   "execution_count": 57,
   "id": "51e272d0-f4f3-43b3-bffb-0ef91c0a575e",
   "metadata": {},
   "outputs": [],
   "source": [
    "Map.addLayer(\n",
    "    copTerrain.select('DEM'), \n",
    "    {'min': 0, 'max': 1000, 'palette': ['000000', 'FFFFFF']},\n",
    "    'Copernicus DEM'\n",
    ")"
   ]
  },
  {
   "cell_type": "code",
   "execution_count": 58,
   "id": "154850f6-1017-496b-9f0b-cc42839a8b3f",
   "metadata": {},
   "outputs": [],
   "source": [
    "Map.addLayer(\n",
    "    copTerrain.select('slope'), \n",
    "    {'min': 0, 'max': 45, 'palette': ['000000', 'FFFFFF']},\n",
    "    'Copernicus Slope'\n",
    ")"
   ]
  },
  {
   "cell_type": "code",
   "execution_count": 59,
   "id": "5f81f75a-3c7a-4514-a6c2-54eb9f0622f1",
   "metadata": {},
   "outputs": [],
   "source": [
    "Map.addLayer(\n",
    "    copTerrain.select('aspect'), \n",
    "    {'min': 0, 'max': 360, 'palette': ['000000', 'FFFFFF']},\n",
    "    'Copernicus Aspect'\n",
    ")"
   ]
  },
  {
   "cell_type": "markdown",
   "id": "5daaecc7-0f41-4394-818a-2275b5f6f1e7",
   "metadata": {},
   "source": [
    "### Aggregated Variables"
   ]
  },
  {
   "cell_type": "code",
   "execution_count": 60,
   "id": "2ea0daf7-ce67-4b74-85b9-b075fc393073",
   "metadata": {},
   "outputs": [
    {
     "name": "stdout",
     "output_type": "stream",
     "text": [
      "['constant']\n"
     ]
    }
   ],
   "source": [
    "# % cover of suitable slopes\n",
    "copSlope = (\n",
    "    copTerrain\n",
    "    .select('slope')\n",
    "    .expression('b(0) < 1 ? 0 : b(0) < 20 ? 1 : 0')\n",
    "    .setDefaultProjection('EPSG:4326',None,30)\n",
    "    .reduceResolution(\n",
    "        reducer = ee.Reducer.mean(),\n",
    "        maxPixels = 35*35\n",
    "    )\n",
    "    .reproject(\n",
    "        crs = 'EPSG:4326',\n",
    "        scale = 1000\n",
    "    )\n",
    "    .clip(geometry)\n",
    ");\n",
    "\n",
    "pprint(copSlope.bandNames().getInfo())"
   ]
  },
  {
   "cell_type": "code",
   "execution_count": 61,
   "id": "680c9b42-bbef-4d4a-9b39-2fa469d7296a",
   "metadata": {},
   "outputs": [],
   "source": [
    "Map.addLayer(copSlope, {'palette': ['000000', 'FFFFFF']}, 'Slope (Categorized)')"
   ]
  },
  {
   "cell_type": "markdown",
   "id": "e41d18ed-d8e9-4dfa-8046-736a0ce6e2e6",
   "metadata": {},
   "source": [
    "## Map"
   ]
  },
  {
   "cell_type": "code",
   "execution_count": 62,
   "id": "c87d0e6b-25b3-495b-9803-e114ea8f9eda",
   "metadata": {},
   "outputs": [
    {
     "data": {
      "application/vnd.jupyter.widget-view+json": {
       "model_id": "5912d86bd6e641f2bc8d568f98e059c9",
       "version_major": 2,
       "version_minor": 0
      },
      "text/plain": [
       "Map(center=[70, 0], controls=(WidgetControl(options=['position', 'transparent_bg'], widget=HBox(children=(Togg…"
      ]
     },
     "metadata": {},
     "output_type": "display_data"
    }
   ],
   "source": [
    "Map"
   ]
  },
  {
   "cell_type": "markdown",
   "id": "19fa5b5a-6ae0-450b-98a3-b60499072ec4",
   "metadata": {},
   "source": [
    "## Export"
   ]
  },
  {
   "cell_type": "code",
   "execution_count": 63,
   "id": "4662b9bc-80ee-488c-aae6-1e3c1354883d",
   "metadata": {},
   "outputs": [],
   "source": [
    "crs = 'EPSG:4326'\n",
    "Map.addLayer(geometry, {'color': 'red'}, 'Export BBox')"
   ]
  },
  {
   "cell_type": "code",
   "execution_count": 64,
   "id": "5b4c89bc-d8c2-4543-808b-cf024398d49e",
   "metadata": {},
   "outputs": [],
   "source": [
    "# # TerraClimateMin\n",
    "# task = ee.batch.Export.image.toDrive(\n",
    "#     image = TerraClimateMin,\n",
    "#     description = 'TerraClimateMin4326',\n",
    "#     folder = 'Earth Engine Exports',\n",
    "#     crs = crs,\n",
    "#     region = geometry,\n",
    "#     scale = 1000,\n",
    "#     maxPixels = 1e13,\n",
    "#     fileFormat='GeoTIFF'\n",
    "    \n",
    "# )\n",
    "# task.start()"
   ]
  },
  {
   "cell_type": "code",
   "execution_count": 65,
   "id": "d957eb5e-e179-4072-b4de-2056b89026d4",
   "metadata": {
    "tags": []
   },
   "outputs": [],
   "source": [
    "# # TerraClimateMax\n",
    "# task = ee.batch.Export.image.toDrive(\n",
    "#     image = TerraClimateMax,\n",
    "#     description = 'TerraClimateMax4326',\n",
    "#     folder = 'Earth Engine Exports',\n",
    "#     crs = crs,\n",
    "#     region = geometry,\n",
    "#     scale = 1000,\n",
    "#     maxPixels = 1e13,\n",
    "#     fileFormat='GeoTIFF'\n",
    "    \n",
    "# )\n",
    "# task.start()"
   ]
  },
  {
   "cell_type": "code",
   "execution_count": 66,
   "id": "65210a22-e397-4d7d-85bd-7edbb3b69e49",
   "metadata": {},
   "outputs": [],
   "source": [
    "# # TerraClimateSum\n",
    "# task = ee.batch.Export.image.toDrive(\n",
    "#     image = TerraClimateSum,\n",
    "#     description = 'TerraClimateSum4326',\n",
    "#     folder = 'Earth Engine Exports',\n",
    "#     crs = crs,\n",
    "#     region = geometry,\n",
    "#     scale = 1000,\n",
    "#     maxPixels = 1e13,\n",
    "#     fileFormat='GeoTIFF'\n",
    "    \n",
    "# )\n",
    "# task.start()"
   ]
  },
  {
   "cell_type": "code",
   "execution_count": 67,
   "id": "f8826cd9-4798-4c49-bb69-bf96dc429427",
   "metadata": {},
   "outputs": [],
   "source": [
    "# # TerraClimateMean\n",
    "# task = ee.batch.Export.image.toDrive(\n",
    "#     image = TerraClimateMean,\n",
    "#     description = 'TerraClimateMean4326',\n",
    "#     folder = 'Earth Engine Exports',\n",
    "#     crs = crs,\n",
    "#     region = geometry,\n",
    "#     scale = 1000,\n",
    "#     maxPixels = 1e13,\n",
    "#     fileFormat='GeoTIFF'\n",
    "    \n",
    "# )\n",
    "# task.start()"
   ]
  },
  {
   "cell_type": "code",
   "execution_count": 68,
   "id": "92de2bc4-1e73-4430-92e1-b60bdc30ca93",
   "metadata": {},
   "outputs": [],
   "source": [
    "# # TerraClimateTempSeasonality\n",
    "# task = ee.batch.Export.image.toDrive(\n",
    "#     image = tempSeasonality,\n",
    "#     description = 'TerraClimateTempSeasonality4326',\n",
    "#     folder = 'Earth Engine Exports',\n",
    "#     crs = crs,\n",
    "#     region = geometry,\n",
    "#     scale = 1000,\n",
    "#     maxPixels = 1e13,\n",
    "#     fileFormat='GeoTIFF'\n",
    "    \n",
    "# )\n",
    "# task.start()"
   ]
  },
  {
   "cell_type": "code",
   "execution_count": 69,
   "id": "64ebb35b-f0fd-4374-b96f-ff96022ca6f5",
   "metadata": {},
   "outputs": [],
   "source": [
    "# # Tmax trend\n",
    "# task = ee.batch.Export.image.toDrive(\n",
    "#     image = tmaxCoefficients,\n",
    "#     description = 'TerraClimateTmaxCoefficients4326',\n",
    "#     folder = 'Earth Engine Exports',\n",
    "#     crs = crs,\n",
    "#     region = geometry,\n",
    "#     scale = 1000,\n",
    "#     maxPixels = 1e13,\n",
    "#     fileFormat='GeoTIFF'\n",
    "    \n",
    "# )\n",
    "# task.start()"
   ]
  },
  {
   "cell_type": "code",
   "execution_count": 70,
   "id": "0741f04d-6375-48d6-bfca-9bdb8736e279",
   "metadata": {},
   "outputs": [],
   "source": [
    "# # Tmin trend\n",
    "# task = ee.batch.Export.image.toDrive(\n",
    "#     image = tminCoefficients,\n",
    "#     description = 'TerraClimateTminCoefficients4326',\n",
    "#     folder = 'Earth Engine Exports',\n",
    "#     crs = crs,\n",
    "#     region = geometry,\n",
    "#     scale = 1000,\n",
    "#     maxPixels = 1e13,\n",
    "#     fileFormat='GeoTIFF'\n",
    "    \n",
    "# )\n",
    "# task.start()"
   ]
  },
  {
   "cell_type": "code",
   "execution_count": 71,
   "id": "6d54a014-bc63-4d97-b3fd-99d9a3244e5b",
   "metadata": {},
   "outputs": [],
   "source": [
    "# # Precip trend\n",
    "# task = ee.batch.Export.image.toDrive(\n",
    "#     image = precipCoefficients,\n",
    "#     description = 'TerraClimatePrecipCoefficients4326',\n",
    "#     folder = 'Earth Engine Exports',\n",
    "#     crs = crs,\n",
    "#     region = geometry,\n",
    "#     scale = 1000,\n",
    "#     maxPixels = 1e13,\n",
    "#     fileFormat='GeoTIFF'\n",
    "    \n",
    "# )\n",
    "# task.start()"
   ]
  },
  {
   "cell_type": "code",
   "execution_count": 72,
   "id": "ff1de487-2e5d-41a0-8e4c-f502af93974f",
   "metadata": {},
   "outputs": [],
   "source": [
    "# # Runoff trend\n",
    "# task = ee.batch.Export.image.toDrive(\n",
    "#     image = runoffCoefficients,\n",
    "#     description = 'TerraClimateRunoffCoefficients4326',\n",
    "#     folder = 'Earth Engine Exports',\n",
    "#     crs = crs,\n",
    "#     region = geometry,\n",
    "#     scale = 1000,\n",
    "#     maxPixels = 1e13,\n",
    "#     fileFormat='GeoTIFF'\n",
    "    \n",
    "# )\n",
    "# task.start()"
   ]
  },
  {
   "cell_type": "code",
   "execution_count": 73,
   "id": "2899c80e-0db4-490e-8e86-291c3d485320",
   "metadata": {},
   "outputs": [],
   "source": [
    "# # SWE trend\n",
    "# task = ee.batch.Export.image.toDrive(\n",
    "#     image = sweCoefficients,\n",
    "#     description = 'TerraClimateSWECoefficients4326',\n",
    "#     folder = 'Earth Engine Exports',\n",
    "#     crs = crs,\n",
    "#     region = geometry,\n",
    "#     scale = 1000,\n",
    "#     maxPixels = 1e13,\n",
    "#     fileFormat='GeoTIFF'\n",
    "    \n",
    "# )\n",
    "# task.start()"
   ]
  },
  {
   "cell_type": "code",
   "execution_count": 74,
   "id": "a1da7bf9-305d-4f75-9c3f-537e08dfcf52",
   "metadata": {},
   "outputs": [],
   "source": [
    "# # Clay\n",
    "# task = ee.batch.Export.image.toDrive(\n",
    "#     image = clay,\n",
    "#     description = 'SoilGridsClay4326',\n",
    "#     folder = 'Earth Engine Exports',\n",
    "#     crs = crs,\n",
    "#     region = geometry,\n",
    "#     scale = 1000,\n",
    "#     maxPixels = 1e13,\n",
    "#     fileFormat='GeoTIFF'\n",
    "    \n",
    "# )\n",
    "# task.start()"
   ]
  },
  {
   "cell_type": "code",
   "execution_count": 75,
   "id": "e1460d64-f8ce-472b-8c76-810067768fc8",
   "metadata": {},
   "outputs": [],
   "source": [
    "# # Sand\n",
    "# task = ee.batch.Export.image.toDrive(\n",
    "#     image = sand,\n",
    "#     description = 'SoilGridsSand4326',\n",
    "#     folder = 'Earth Engine Exports',\n",
    "#     crs = crs,\n",
    "#     region = geometry,\n",
    "#     scale = 1000,\n",
    "#     maxPixels = 1e13,\n",
    "#     fileFormat='GeoTIFF'\n",
    "    \n",
    "# )\n",
    "# task.start()"
   ]
  },
  {
   "cell_type": "code",
   "execution_count": 76,
   "id": "4363f2c9-a625-4164-982f-42cc9a24933e",
   "metadata": {},
   "outputs": [],
   "source": [
    "# # Silt\n",
    "# task = ee.batch.Export.image.toDrive(\n",
    "#     image = silt,\n",
    "#     description = 'SoilGridsSilt4326',\n",
    "#     folder = 'Earth Engine Exports',\n",
    "#     crs = crs,\n",
    "#     region = geometry,\n",
    "#     scale = 1000,\n",
    "#     maxPixels = 1e13,\n",
    "#     fileFormat='GeoTIFF'\n",
    "    \n",
    "# )\n",
    "# task.start()"
   ]
  },
  {
   "cell_type": "code",
   "execution_count": 77,
   "id": "f768b9c6-9644-4df9-be4a-3966519bd66a",
   "metadata": {},
   "outputs": [],
   "source": [
    "# # Organic Carbon Stock\n",
    "# task = ee.batch.Export.image.toDrive(\n",
    "#     image = ocs,\n",
    "#     description = 'SoilGridsOCS4326',\n",
    "#     folder = 'Earth Engine Exports',\n",
    "#     crs = crs,\n",
    "#     region = geometry,\n",
    "#     scale = 1000,\n",
    "#     maxPixels = 1e13,\n",
    "#     fileFormat='GeoTIFF'\n",
    "    \n",
    "# )\n",
    "# task.start()"
   ]
  },
  {
   "cell_type": "code",
   "execution_count": 78,
   "id": "01d1457e-ce1c-466c-a583-83b88f0ab8eb",
   "metadata": {},
   "outputs": [],
   "source": [
    "# # MODIS LST\n",
    "# task = ee.batch.Export.image.toDrive(\n",
    "#     image = lstGSMean,\n",
    "#     description = 'MODISLSTGSMean4326',\n",
    "#     folder = 'Earth Engine Exports',\n",
    "#     crs = crs,\n",
    "#     region = geometry,\n",
    "#     scale = 1000,\n",
    "#     maxPixels = 1e13,\n",
    "#     fileFormat='GeoTIFF'\n",
    "    \n",
    "# )\n",
    "# task.start()"
   ]
  },
  {
   "cell_type": "code",
   "execution_count": 79,
   "id": "30dcefb2-dfef-4a63-8d3a-bb6d6de53079",
   "metadata": {},
   "outputs": [],
   "source": [
    "# # MODIS LST\n",
    "# task = ee.batch.Export.image.toDrive(\n",
    "#     image = lstCoefficients,\n",
    "#     description = 'MODISLSTGSTrend4326',\n",
    "#     folder = 'Earth Engine Exports',\n",
    "#     crs = crs,\n",
    "#     region = geometry,\n",
    "#     scale = 1000,\n",
    "#     maxPixels = 1e13,\n",
    "#     fileFormat='GeoTIFF'\n",
    "    \n",
    "# )\n",
    "# task.start()"
   ]
  },
  {
   "cell_type": "code",
   "execution_count": 80,
   "id": "e1e6a558-263b-4247-9f9d-9acaa10ff853",
   "metadata": {},
   "outputs": [],
   "source": [
    "# # Copernicus % Cover of Suitable Slopes\n",
    "# task = ee.batch.Export.image.toDrive(\n",
    "#     image = copSlope,\n",
    "#     description = 'CopernicusSuitableSlope4326',\n",
    "#     folder = 'Earth Engine Exports',\n",
    "#     crs = crs,\n",
    "#     region = geometry,\n",
    "#     scale = 1000,\n",
    "#     maxPixels = 1e13,\n",
    "#     fileFormat = 'GeoTIFF',\n",
    "#     shardSize = 256/2,\n",
    "#     skipEmptyTiles = True\n",
    "# )\n",
    "# task.start()"
   ]
  }
 ],
 "metadata": {
  "kernelspec": {
   "display_name": "Python 3 (ipykernel)",
   "language": "python",
   "name": "python3"
  },
  "language_info": {
   "codemirror_mode": {
    "name": "ipython",
    "version": 3
   },
   "file_extension": ".py",
   "mimetype": "text/x-python",
   "name": "python",
   "nbconvert_exporter": "python",
   "pygments_lexer": "ipython3",
   "version": "3.10.5"
  }
 },
 "nbformat": 4,
 "nbformat_minor": 5
}
